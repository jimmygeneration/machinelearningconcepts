{
 "cells": [
  {
   "cell_type": "markdown",
   "id": "7a622788",
   "metadata": {},
   "source": [
    "## Probability Theory of Machine Learning "
   ]
  },
  {
   "cell_type": "markdown",
   "id": "56877999",
   "metadata": {},
   "source": [
    "## Linear models for Regression"
   ]
  },
  {
   "cell_type": "markdown",
   "id": "d74936fd",
   "metadata": {},
   "source": [
    "## Linear models for Classification "
   ]
  },
  {
   "cell_type": "markdown",
   "id": "92189520",
   "metadata": {},
   "source": [
    "## Logistic Regression"
   ]
  },
  {
   "cell_type": "markdown",
   "id": "9d65f61f",
   "metadata": {},
   "source": [
    "## K-Means"
   ]
  },
  {
   "cell_type": "markdown",
   "id": "002c2ea9",
   "metadata": {},
   "source": [
    "## Expectation Maximization for Gaussian Mixture Models "
   ]
  },
  {
   "cell_type": "markdown",
   "id": "0b59db9b",
   "metadata": {},
   "source": [
    "## Expectation Maximization for Document Clustering "
   ]
  },
  {
   "cell_type": "markdown",
   "id": "989d1b7d",
   "metadata": {},
   "source": [
    "## Neural Networks "
   ]
  },
  {
   "cell_type": "markdown",
   "id": "2ece4a33",
   "metadata": {},
   "source": [
    "## Measures of Loss "
   ]
  },
  {
   "cell_type": "markdown",
   "id": "dd896985",
   "metadata": {},
   "source": [
    "## Gradient Descent Concepts "
   ]
  },
  {
   "cell_type": "markdown",
   "id": "cae762d1",
   "metadata": {},
   "source": [
    "## Regularisation "
   ]
  },
  {
   "cell_type": "markdown",
   "id": "b3320ce3",
   "metadata": {},
   "source": [
    "## Bias and Variance Decomposition "
   ]
  },
  {
   "cell_type": "markdown",
   "id": "b71cc0e8",
   "metadata": {},
   "source": [
    "## Bootstrap & Cross-Validation "
   ]
  },
  {
   "cell_type": "markdown",
   "id": "a4eb780c",
   "metadata": {},
   "source": []
  }
 ],
 "metadata": {
  "kernelspec": {
   "display_name": "Python 3 (ipykernel)",
   "language": "python",
   "name": "python3"
  },
  "language_info": {
   "codemirror_mode": {
    "name": "ipython",
    "version": 3
   },
   "file_extension": ".py",
   "mimetype": "text/x-python",
   "name": "python",
   "nbconvert_exporter": "python",
   "pygments_lexer": "ipython3",
   "version": "3.11.3"
  }
 },
 "nbformat": 4,
 "nbformat_minor": 5
}
